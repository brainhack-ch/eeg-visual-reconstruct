{
 "cells": [
  {
   "cell_type": "code",
   "execution_count": 2,
   "metadata": {},
   "outputs": [],
   "source": [
    "import numpy as np"
   ]
  },
  {
   "cell_type": "code",
   "execution_count": 5,
   "metadata": {},
   "outputs": [],
   "source": [
    "data = np.loadtxt('data/S01/Session1/ann.csv', delimiter=\",\", skiprows=1)"
   ]
  },
  {
   "cell_type": "code",
   "execution_count": 7,
   "metadata": {},
   "outputs": [],
   "source": [
    "diff = data[:, 3] - data[:, 2]"
   ]
  },
  {
   "cell_type": "code",
   "execution_count": 8,
   "metadata": {},
   "outputs": [],
   "source": [
    "for i in range(1, len(diff)):\n",
    "    diff[i] = diff[i - 1] + diff[i]"
   ]
  },
  {
   "cell_type": "code",
   "execution_count": null,
   "metadata": {},
   "outputs": [],
   "source": [
    "a = np.arange()"
   ]
  },
  {
   "cell_type": "code",
   "execution_count": 9,
   "metadata": {},
   "outputs": [
    {
     "data": {
      "text/plain": [
       "array([   8.008,   17.986,   25.996,   36.006,   46.018,   56.03 ,\n",
       "         66.04 ,   76.052,   85.028,   95.038,  104.608,  114.618,\n",
       "        124.628,  134.638,  144.648,  154.618,  163.658,  173.668,\n",
       "        183.678,  193.698,  203.708,  211.678,  219.688,  229.708,\n",
       "        239.718,  249.728,  257.138,  265.148,  275.158,  285.168,\n",
       "        294.718,  302.728,  312.708,  320.608,  328.578,  338.558,\n",
       "        347.568,  356.018,  364.028,  374.038,  382.918,  390.888,\n",
       "        400.908,  410.918,  418.928,  429.438,  437.478,  447.458,\n",
       "        455.468,  465.478,  473.488,  483.498,  491.038,  501.048,\n",
       "        511.058,  519.058,  529.038,  538.018,  547.028,  556.998,\n",
       "        566.978,  574.988,  585.008,  595.018,  603.028,  613.038,\n",
       "        623.048,  631.058,  641.068,  649.038,  657.038,  667.048,\n",
       "        674.058,  682.068,  690.078,  700.048,  706.048,  715.028,\n",
       "        725.038,  733.048,  741.058,  749.068,  757.078,  767.088,\n",
       "        777.098,  785.078,  795.088,  804.998,  813.008,  823.018,\n",
       "        831.028,  841.028,  849.028,  858.028,  866.028,  874.028,\n",
       "        884.028,  894.028,  904.028,  914.028,  924.128,  934.128,\n",
       "        942.128,  952.128,  962.128,  972.128,  980.028,  988.028,\n",
       "        998.128, 1008.128, 1018.228, 1028.228, 1036.228, 1046.228,\n",
       "       1054.228, 1062.228, 1070.328])"
      ]
     },
     "execution_count": 9,
     "metadata": {},
     "output_type": "execute_result"
    }
   ],
   "source": [
    "diff"
   ]
  },
  {
   "cell_type": "code",
   "execution_count": null,
   "metadata": {},
   "outputs": [],
   "source": []
  }
 ],
 "metadata": {
  "kernelspec": {
   "display_name": "Python 3",
   "language": "python",
   "name": "python3"
  },
  "language_info": {
   "codemirror_mode": {
    "name": "ipython",
    "version": 3
   },
   "file_extension": ".py",
   "mimetype": "text/x-python",
   "name": "python",
   "nbconvert_exporter": "python",
   "pygments_lexer": "ipython3",
   "version": "3.6.8"
  }
 },
 "nbformat": 4,
 "nbformat_minor": 2
}
